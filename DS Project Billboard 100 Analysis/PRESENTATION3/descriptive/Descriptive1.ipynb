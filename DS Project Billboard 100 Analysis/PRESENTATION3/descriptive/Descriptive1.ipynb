{
 "cells": [
  {
   "cell_type": "code",
   "execution_count": 4,
   "id": "9337840d",
   "metadata": {},
   "outputs": [
    {
     "data": {
      "image/png": "[encoded data removed]",
      "text/plain": [
       "<Figure size 432x288 with 1 Axes>"
      ]
     },
     "metadata": {
      "needs_background": "light"
     },
     "output_type": "display_data"
    },
    {
     "data": {
      "text/plain": [
       "'x=[]\\nsng=[0 for i in range(11)]        \\nsongs = pd.concat(songs)\\nsns.lineplot(x=\\'weeks-on-board\\', y=\\'rank\\',hue=\"blue\", data=songs,alpha=1)\\nplt.gca().invert_yaxis()\\nplt.show()'"
      ]
     },
     "execution_count": 4,
     "metadata": {},
     "output_type": "execute_result"
    }
   ],
   "source": [
    "import pandas as pd\n",
    "import numpy as np\n",
    "import seaborn as sns\n",
    "import matplotlib.pyplot as plt\n",
    "import time\n",
    "\n",
    "\n",
    "df = pd.read_csv(\"charts.csv\")\n",
    "SongID = df[df[\"weeks-on-board\"]==1][[\"song\", \"rank\", \"date\", \"artist\"]]\n",
    "\n",
    "total = df.groupby(by=[\"song\", \"artist\"])\n",
    "\n",
    "\n",
    "songs = []\n",
    "n = 0\n",
    "for name, group in total:\n",
    "    max_lifespan=group['weeks-on-board'].max()\n",
    "    S = 0\n",
    "    for i in range(len(group.index)):\n",
    "        S += 100 - group.iloc[i][\"rank\"]\n",
    "        group.iloc[i, group.columns.get_loc(\"weeks-on-board\")]=group.iloc[i, group.columns.get_loc(\"weeks-on-board\")]\n",
    "    group[\"yellow\"] = [S for i in group.index]\n",
    "    songs.append(group)\n",
    "    n += 1\n",
    "    if n==1:\n",
    "        break\n",
    "x=[]\n",
    "sng=[]\n",
    "songs = pd.concat(songs).reset_index(drop=True)\n",
    "\"\"\"\n",
    "for i in range(10):\n",
    "    p=i/10\n",
    "    p2=(i+1)/10\n",
    "    sng.append(songs.loc[(songs['weeks-on-board']>p) & (songs['weeks-on-board']<p2)]['rank'].mean())\n",
    "    x.append(p+(1/20))\n",
    "\"\"\"\n",
    "g=sns.lineplot(x='weeks-on-board', y='rank',hue=\"yellow\", data=songs,alpha=0.5)\n",
    "g.set(xlabel='Timespan of Songs')\n",
    "\n",
    "sns.lineplot(y=sng, x=x,color='black',linewidth=5).set_title(\"Random 1000 Songs\")\n",
    "plt.gca().invert_yaxis()\n",
    "plt.show()\n",
    "\n",
    "\n",
    "\n",
    "\"\"\"import pandas as pd\n",
    "import numpy as np\n",
    "import seaborn as sns\n",
    "import matplotlib.pyplot as plt\n",
    "import time\n",
    "\n",
    "def getYear(series):\n",
    "    lst = []\n",
    "    for element in series.date:\n",
    "        lst.append(int(element[:4]))\n",
    "    return pd.Series(lst)\n",
    "\n",
    "\n",
    "df = pd.read_csv(\"charts.csv\")\n",
    "SongID = df[df[\"weeks-on-board\"]==1][[\"song\", \"rank\", \"date\", \"artist\"]]\n",
    "df=df\n",
    "total = df.groupby(by=[\"song\", \"artist\"])\n",
    "\n",
    "\n",
    "songs = []\n",
    "n = 0\n",
    "for name, group in total:\n",
    "    max_lifespan=group['weeks-on-board'].max()\n",
    "    S = 0\n",
    "    for i in range(len(group.index)):\n",
    "        S += 100 - group.iloc[i][\"rank\"]\n",
    "        group.iloc[i, group.columns.get_loc(\"weeks-on-board\")]=group.iloc[i, group.columns.get_loc(\"weeks-on-board\")]\n",
    "    group[\"blue\"] = [S for i in group.index]\n",
    "    #print(group)\n",
    "    songs.append(group)\n",
    "    n += 1\n",
    "    if n==1000:\n",
    "        break\n",
    "x=[]\n",
    "songs = pd.concat(songs)\n",
    "#print(songs.head())\n",
    "x=songs[songs[\"peak-rank\"]==1]\n",
    "y=songs[songs[\"weeks-on-board\"]>30]\n",
    "x=x['song'].to_frame()\n",
    "y=y['song'].to_frame()\n",
    "\n",
    "x=x.merge(songs,how=\"inner\",on=\"song\")\n",
    "y=y.merge(songs,how=\"inner\",on=\"song\")\n",
    "\n",
    "sns.lineplot(x='weeks-on-board', y='rank',hue=\"blue\", data=x,alpha=1).set_title(\"Peak rank achieved is 1\")\n",
    "plt.gca().invert_yaxis()\n",
    "plt.show()\n",
    "sns.lineplot(x='weeks-on-board', y='rank',hue=\"blue\", data=y,alpha=1).set_title(\"Max weeks on board more than 30\")\n",
    "plt.gca().invert_yaxis()\n",
    "plt.show()\n",
    "\"\"\"  \n",
    "        \n",
    "\"\"\"x=[]\n",
    "sng=[0 for i in range(11)]        \n",
    "songs = pd.concat(songs)\n",
    "sns.lineplot(x='weeks-on-board', y='rank',hue=\"blue\", data=songs,alpha=1)\n",
    "plt.gca().invert_yaxis()\n",
    "plt.show()\"\"\"\n",
    "\n",
    "    \n"
   ]
  },
  {
   "cell_type": "code",
   "execution_count": null,
   "id": "a7bbb5e2",
   "metadata": {},
   "outputs": [],
   "source": []
  }
 ],
 "metadata": {
  "kernelspec": {
   "display_name": "Python 3",
   "language": "python",
   "name": "python3"
  },
  "language_info": {
   "codemirror_mode": {
    "name": "ipython",
    "version": 3
   },
   "file_extension": ".py",
   "mimetype": "text/x-python",
   "name": "python",
   "nbconvert_exporter": "python",
   "pygments_lexer": "ipython3",
   "version": "3.8.8"
  }
 },
 "nbformat": 4,
 "nbformat_minor": 5
}
